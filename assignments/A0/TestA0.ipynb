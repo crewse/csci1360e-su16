{
 "cells": [
  {
   "cell_type": "markdown",
   "metadata": {
    "nbgrader": {
     "grade": false,
     "grade_id": "intro",
     "locked": true,
     "solution": false
    }
   },
   "source": [
    "# Assignment 0\n",
    "\n",
    "This is just a test assignment. Don't worry, it's not for any points! We're just making sure everything works.\n",
    "\n",
    "There's one question below--a small code snippet. Don't worry about what it does; instead, focus on the double-quotes. See how they're right next to each other? Put something between those quotes. Anything at all. The autograder for this question will literally look to see if there's so much as a single blank space between the quotes, and will call the answer correct. `\" \"` would be correct; so would `\"this is a lot more than just a space\"`. Make something up! But whatever you do, *don't delete the quotes*."
   ]
  },
  {
   "cell_type": "code",
   "execution_count": 1,
   "metadata": {
    "collapsed": true,
    "nbgrader": {
     "grade": false,
     "grade_id": "q1",
     "locked": false,
     "solution": true
    }
   },
   "outputs": [],
   "source": [
    "def things_and_stuff(some_string):\n",
    "    return \"Here's what you wrote: {}\".format(some_string)\n",
    "\n",
    "instring = \"this passes!\"\n",
    "# 1: Copy the *whole* line above this one (the one that says \"instring\")\n",
    "# 2: Paste it on top of the \"raise NotImplementedError\" (as in, paste over it)\n",
    "# 3: Put something in the double-quotes! Anything!\n",
    "### BEGIN SOLUTION\n",
    "\n",
    "### END SOLUTION\n",
    "out = things_and_stuff(instring)"
   ]
  },
  {
   "cell_type": "code",
   "execution_count": null,
   "metadata": {
    "collapsed": false,
    "nbgrader": {
     "grade": true,
     "grade_id": "q1_check",
     "locked": true,
     "points": 1,
     "solution": false
    }
   },
   "outputs": [],
   "source": [
    "assert type(out) == str\n",
    "assert len(out) > 0"
   ]
  }
 ],
 "metadata": {
  "celltoolbar": "Create Assignment",
  "kernelspec": {
   "display_name": "Python 3",
   "language": "python",
   "name": "python3"
  },
  "language_info": {
   "codemirror_mode": {
    "name": "ipython",
    "version": 3
   },
   "file_extension": ".py",
   "mimetype": "text/x-python",
   "name": "python",
   "nbconvert_exporter": "python",
   "pygments_lexer": "ipython3",
   "version": "3.5.1"
  }
 },
 "nbformat": 4,
 "nbformat_minor": 0
}
