{
 "cells": [
  {
   "cell_type": "markdown",
   "metadata": {},
   "source": [
    "# CSCI 1360E: Foundations for Informatics and Analytics\n",
    "\n",
    "...or, more colloquially, **\"Introduction to Data Science.\"**"
   ]
  },
  {
   "cell_type": "markdown",
   "metadata": {},
   "source": [
    "![thanks boromir](http://cobweb.cs.uga.edu/~squinn/courses/fa16/csci1360/1360.jpg)"
   ]
  },
  {
   "cell_type": "markdown",
   "metadata": {},
   "source": [
    "## Table of Contents\n",
    "\n",
    "This page is, for all intents and purposes, the course syllabus. The primary course interactions will be through 1) the Slack channel, and 2) JupyterHub, both of which I'll address here.\n",
    "\n",
    "1. **[Overview](#Overview)**: Basic outline and high-level purpose of the course. \"What to expect\", etc.\n",
    "2. **[Prerequisites](#Prerequisites)**: Should you take this course? (answer: if you can differentiate $x^2$, then yes)\n",
    "3. **[Materials](#Materials)**: What you'll need to succeed in 1360E.\n",
    "4. **[Layout](#Layout)**: General structure of the course lectures and assignments.\n",
    "5. **[Grading](#Grading)**: You know you clicked this first.\n",
    "6. **[Course Resources and Online Portals](#Course-Resources-and-Online-Portals)**: The online resources we'll be using to coordinate lectures, assignments, and assistance.\n",
    "7. **[Outline](#Outline)**: Pre-alpha version outline of the week-by-week topic schedule.\n",
    "8. **[Policies](#Policies)**: I can hear you yawning. Still, read this.\n",
    "9. **[Contact](#Contact)**: How to get in touch."
   ]
  },
  {
   "cell_type": "markdown",
   "metadata": {},
   "source": [
    "## Overview\n",
    "\n",
    "Informatics, or “data science,” are rapidly becoming essential skills for scientists across fields; in addition to field-specific specializations, researchers require knowledge of and experience with quantitative analytical techniques for extracting knowledge from raw data.\n",
    "\n",
    "This course aims to provide an introduction to concepts in scientific programming and data science using the Python language. Students are given hands-on opportunities to learn techniques applicable to quantitative analyses across a broad range of fields. These core techniques involve formulating solutions in terms of their inputs and outputs (functional programming), repeated operations (loops), branching operations (conditionals), different methods of organizing data (data structures), how to implement an optimal problem-solving strategy (algorithm design), and methods for visualizing and interpreting results."
   ]
  },
  {
   "cell_type": "markdown",
   "metadata": {},
   "source": [
    "## Prerequisites\n",
    "\n",
    "The only hard prerequisite is **MATH 1113 Precalculus**.\n",
    "\n",
    "This course assumes **no prior programming or statistics knowledge**. It is meant to be an introduction to these concepts in the larger context of data science and scientific programming through the lens of the Python ecosystem. The course is targeted at undergraduate students across fields who, irrespective of their ultimate career goals, are interested in a foundational understanding of programming and quantitative data analytics."
   ]
  },
  {
   "cell_type": "markdown",
   "metadata": {},
   "source": [
    "![data science venn diagram](http://static1.squarespace.com/static/5150aec6e4b0e340ec52710a/t/51525c33e4b0b3e0d10f77ab/1364352052403/Data_Science_VD.png)"
   ]
  },
  {
   "cell_type": "markdown",
   "metadata": {},
   "source": [
    "## Materials\n",
    "\n",
    "As this course is online, there are few physical requirements in order to effectively participate.\n",
    "\n",
    " - You'll need a computer with an internet connection. If you're reading this, you can most likely claim victory on this one.\n",
    " - An up-to-date web browser. Any should fit the bill:\n",
    "   - Firefox (if you have enough memory)\n",
    "   - Chrome (if you have enough spare CPU cycles)\n",
    "   - Safari (if you're iRad enough)\n",
    "   - IE (if you hate life)\n",
    "   - Edge (if you merely strongly abhor life)\n",
    "   - Opera (because someone has to stand up for the little guy...?)\n",
    "   - Vivaldi (the two people who use it say it's pretty cool)\n",
    "   - Konqueror (...I honestly know nothing about this browser)\n",
    "   - Lynx. LOLOOL j/k, you'll need to be able to render, y'know, JavaScript and images.\n",
    " - **There is/are no required textbook(s)**. There are a few recommended texts that I will <strike>steal</strike> borrow from over the course of the semester, and you're welcome to check them out or purchase them if you're interested, but any material from them that you'll need will be reproduced here in some form.\n",
    "\n",
    "If you are so inclined to purchase a reference textbook, I would highly recommend the following (conveniently ordered from [in my humble opinion] most informative to...whatever the opposite of \"most informative\" is):\n",
    " - Grus, Joel. *Data Science from Scratch: First Principles with Python* (1$^{st}$ ed., 2015) ISBN-13: 978-1491901427.\n",
    " - McKinney, Wes. *Python for Data Analysis: Data Wrangling with Pandas, NumPy, and IPython* (1$^{st}$ ed., 2012) ISBN-13: 978-1449319793.\n",
    " - Shaw, Zed. *Learn Python the Hard Way* (3$^{rd}$ ed., 2013) ISBN-13: 978-0321884916."
   ]
  },
  {
   "cell_type": "markdown",
   "metadata": {},
   "source": [
    "## Layout\n",
    "\n",
    "Given the online nature of this course, the primary vector through which you'll submit assignments is [JupyterHub](http://jupyterhub.cs.uga.edu). This is where you'll submit assignments for grading.\n",
    "\n",
    "Furthermore, this is the format of the lectures. Yes! No videos! [Yay!](http://rs795.pbsrc.com/albums/yy239/jadis11/Gifs/OMGYAY.gif~c200) These \"lectures\" will be released every **Monday, Wednesday, and Friday**, with assignments coming out every **Tuesday and Thursday**. More details below."
   ]
  },
  {
   "cell_type": "markdown",
   "metadata": {},
   "source": [
    "## Grading\n",
    "\n",
    "Yep, the part everyone pays attention to.\n",
    "\n",
    "![irrelevant to my interests](http://catplanet.org/wp-content/uploads/2014/05/This-is-relevant-to-my-interests.jpg)\n",
    "\n",
    " - Participation: **5%**\n",
    " - Assignments: **70%**\n",
    " - Midterm: **10%**\n",
    " - Final: **15%**\n",
    " \n",
    "There will be 10 relatively brief programming assignments, each worth 7% of your total grade. These are intended to give you hands-on experience with the concepts being taught in the class and to familiarize you with the Python language and its ecosystem. There will be midterm and final exams, and a participation component. The latter takes the form of asking and/or answering questions in the Slack channel, leading study discussions in the Slack channel, or participating in Slack office hours."
   ]
  },
  {
   "cell_type": "markdown",
   "metadata": {},
   "source": [
    "## Course Resources and Online Portals\n",
    "\n",
    "This is the crux of everything. If you read one part of the syllabus, let it be this one.\n",
    "\n",
    "![WAKE UP](https://media3.popsugar-assets.com/files/2013/11/07/831/n/1922398/d2369632b2fdca55_35.gif)\n",
    "\n",
    "### 1: JupyterHub\n",
    "\n",
    "This is the primary point of interaction for homework assignments and exams. Jupyter notebooks (like this one that you're reading!) will be posted here. For lectures, they'll be posted in the Slack channel. Here's the link:\n",
    "\n",
    "#### [http://jupyterhub.cs.uga.edu](https://jupyterhub.cs.uga.edu)\n",
    "\n",
    "It's only accessible from on-campus, or with a campus VPN. [Check out this EITS webpage on remote access](http://eits.uga.edu/access_and_security/infosec/tools/vpn/) if you need assistance.\n",
    "\n",
    "### 2: Slack\n",
    "\n",
    "This is the primary point of interaction for asking for / offering help. I will answer questions when I can, and will make myself avaialble at specific \"office hours\" during the week when I am guaranteed to be sitting in front of the channel, but otherwise I encourage everyone to help each other out, too!\n",
    "\n",
    "#### [https://ugadatascience.slack.com/](https://ugadatascience.slack.com/)\n",
    "\n",
    "I will send out invites to the Slack channel using your UGA email address."
   ]
  },
  {
   "cell_type": "markdown",
   "metadata": {},
   "source": [
    "## Outline\n",
    "\n",
    "Here is a rough outline of the progression of topics we'll cover in CSCI 1360E (subject to change without notice):\n",
    "\n",
    "### Week 1 (Wed, June 8 - Fri, June 10)\n",
    " - **Wednesday**\n",
    "   - Lecture 1: *Course introduction: What is data science?*\n",
    " - **Thursday**\n",
    "   - Assignment 0 (A0) released\n",
    " - **Friday**\n",
    "   - Lecture 2: *Introduction to Python: Creating your first program*\n",
    "\n",
    "### Week 2 (Mon, June 13 - Fri, June 17)\n",
    " - **Monday**\n",
    "   - Lecture 3: *Variable types and basic operations*\n",
    " - **Tuesday**\n",
    "   - A0 due\n",
    "   - A1 released\n",
    " - **Wednesday**\n",
    "   - Lecture 4: *Native data structures*\n",
    " - **Thursday**\n",
    "   - A2 released\n",
    " - **Friday**\n",
    "   - Lecture 5: *Advanced data structures*\n",
    "   - A1 due\n",
    "\n",
    "### Week 3 (Mon, June 20 - Fri, June 24)\n",
    " - **Monday**\n",
    "   - Lecture 6: *Loops and conditionals*\n",
    " - **Tuesday**\n",
    "   - A2 due\n",
    "   - A3 released\n",
    " - **Wednesday**\n",
    "   - Lecture 7: *Vectorized programming*\n",
    " - **Thursday**\n",
    "   - A4 released\n",
    " - **Friday**\n",
    "   - Lecture 8: *Array indexing, slicing, and broadcasting*\n",
    "   - A3 due\n",
    "\n",
    "### Week 4 (Mon, June 27 - Fri, July 1)\n",
    " - **Monday**\n",
    "   - Lecture 9: *Functions I*\n",
    " - **Tuesday**\n",
    "   - A4 due\n",
    "   - A5 released\n",
    " - **Wednesday**\n",
    "   - Lecture 10: *Functions II*\n",
    " - **Friday**\n",
    "   - Lecture 11: *Functional programming*\n",
    "   - A5 due\n",
    "\n",
    "### Week 5 (Tues, July 5 - Fri, July 8)\n",
    " - **Tuesday**\n",
    "   - **MIDTERM EXAM**\n",
    " - **Wednesday**\n",
    "   - Lecture 12: *Reading from and writing to the filesystem*\n",
    " - **Thursday**\n",
    "   - A6 released\n",
    " - **Friday**\n",
    "   - Lecture 13: *Introduction to probability and statistics*\n",
    "\n",
    "### Week 6 (Mon, July 11 - Fri, July 15)\n",
    " - **Monday**\n",
    "   - Lecture 14: *Linear algebra*\n",
    " - **Tuesday**\n",
    "   - A6 due\n",
    "   - A7 released\n",
    " - **Wednesday**\n",
    "   - Lecture 15: *Data cleaning and preprocessing*\n",
    " - **Thursday**\n",
    "   - A8 released\n",
    " - **Friday**\n",
    "   - Lecture 16: *Working with text*\n",
    "   - A7 due\n",
    "\n",
    "### Week 7 (Mon, July 18 - Fri, July 22)\n",
    " - **Monday**\n",
    "   - Lecture 17: *Working with images*\n",
    " - **Tuesday**\n",
    "   - A8 due\n",
    "   - A9 released\n",
    " - **Wednesday**\n",
    "   - Lecture 18: *Data visualization I*\n",
    " - **Thursday**\n",
    "   - A10 released\n",
    " - **Friday**\n",
    "   - Lecture 19: *Data visualization II*\n",
    "   - A9 due\n",
    "\n",
    "### Week 8 (Mon, July 25 - Fri, July 29)\n",
    "\n",
    " - **Monday**\n",
    "   - Lecture 20: *Introduction to machine learning*\n",
    " - **Tuesday**\n",
    "   - A10 due\n",
    " - **Wednesday**\n",
    "   - Lecture 21: *Creating and publishing new Python packages*\n",
    " - **Friday**\n",
    "   - Lecture 22: *TBD / Wrap-up*\n",
    "\n",
    "### Week 9 (Mon, Aug 1 - Wed, Aug 3)\n",
    "\n",
    " - **Mon, Tues, Wed**\n",
    "   - FINAL EXAMS WEEK, WOOHOO!\n",
    "   - More details to be announced later"
   ]
  },
  {
   "cell_type": "markdown",
   "metadata": {},
   "source": [
    "## Policies\n",
    "\n",
    "Kinda boring, but absolutely necessary. Please be familiar with these points so you and I don't have to have unpleasant conversations.\n",
    "\n",
    "### Assignments\n",
    "\n",
    " - Assignments are due by 11:59:59pm on the noted date. Assignments turned in after this deadline will lose 25/100 points for every subsequent 24 hour-period they are late.\n",
    " - The presence or absence of any form of help or collaboration, whether given or received, must be explicitly stated and disclosed in full by all involved, on the first page of their assignment (\"I did not give or receive any help on this assignment\" or \"I helped [person] with [specific task].\"). Collaboration without full disclosure will be handled severely; except in usual extenuating circumstances, my policy is to fail the student(s) for the entire course.\n",
    " - **DO NOT COPY CODE**. I cannot stress this enough. Coding is a lot like writing: everyone has their own style that is very recognizable. It's not difficult to tell when students share their code. Don't do it.\n",
    " \n",
    "### Exams\n",
    "\n",
    " - Any material covered in lecture or homework assignments is considered fair game for both exams.\n",
    " - Both exams will be cumulative. I may even be lazy / clever and copy-paste midterm questions into the final.\n",
    " - The exact format of both exams will be variable; previous years' exams have included a mixture of multiple choice, matching, true/false, and hand-coding. However, this being the first online course in CSCI 1360, it is not yet clear what the ultimate formats will be.\n",
    " - Time permitting, \"practice\" versions of the exams will be released. I will make every effort, but it will depend entirely on my schedule when the time comes; as such, do not assume it will happen.\n",
    " - **Exams will be timed.** You can complete them within the time frame allotted in under the maximum time interval. As this is an online course, it's viable for multiple people to take the exam while co-located; please resist this option. Colloboration in **any** form during either exam will be grounds for immediate failure of the course.\n",
    " \n",
    "The [UGA Academic Honesty Policy](https://ovpi.uga.edu/academic-honesty/academic-honesty-policy) is the final word on these matters. Lack of knowledge of these policies is not sufficient justification for violations. If in doubt, **ask me**."
   ]
  },
  {
   "cell_type": "markdown",
   "metadata": {},
   "source": [
    "## Contact\n",
    "\n",
    "Dr. Shannon Quinn: resident new professor, marathoner, and certified nerd (I have a degree to prove it).\n",
    "\n",
    "![lolme](http://www.cs.uga.edu/sites/default/files/shannon_quinn.jpeg)\n",
    "\n",
    "Email: **[squinn@cs.uga.edu](mailto:squinn@cs.uga.edu?subject=1360E)** (include **1360E** in the subject line so it hits my email filter!)\n",
    "\n",
    "Office: [Boyd GSRC](https://www.google.com/maps/place/Boyd+Graduate+Studies+Research+Center,+200+D.+W.+Brooks+Dr,+Athens,+GA+30602/@33.945853,-83.3768563,17z/data=!4m13!1m7!3m6!1s0x88f66ce394abfb3d:0x8ab31baa95c4704d!2sBoyd+Graduate+Studies+Research+Center,+200+D.+W.+Brooks+Dr,+Athens,+GA+30602!3b1!8m2!3d33.9458486!4d-83.3746623!3m4!1s0x88f66ce394abfb3d:0x8ab31baa95c4704d!8m2!3d33.9458486!4d-83.3746623), Room 638A.\n",
    "\n",
    "Office Phone: 2-4661\n",
    "\n",
    "Website: [http://cs.uga.edu/~squinn](http://cs.uga.edu/~squinn)"
   ]
  }
 ],
 "metadata": {
  "kernelspec": {
   "display_name": "Python 3",
   "language": "python",
   "name": "python3"
  },
  "language_info": {
   "codemirror_mode": {
    "name": "ipython",
    "version": 3
   },
   "file_extension": ".py",
   "mimetype": "text/x-python",
   "name": "python",
   "nbconvert_exporter": "python",
   "pygments_lexer": "ipython3",
   "version": "3.5.1"
  }
 },
 "nbformat": 4,
 "nbformat_minor": 0
}
